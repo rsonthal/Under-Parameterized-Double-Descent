{
  "cells": [
    {
      "cell_type": "code",
      "execution_count": null,
      "metadata": {
        "id": "tkj8VmS3M8uQ"
      },
      "outputs": [],
      "source": [
        "import torch\n",
        "import numpy as np\n",
        "import sympy as sym\n",
        "from sympy.solvers import solve\n",
        "from matplotlib import pyplot as plt"
      ]
    },
    {
      "cell_type": "code",
      "execution_count": null,
      "metadata": {
        "id": "Ha3EXJLM2hyd"
      },
      "outputs": [],
      "source": [
        "c = sym.Symbol('c', positive=True)\n",
        "mu = sym.Symbol('mu', positive=True)\n",
        "theta = sym.Symbol('sigma',positive=True)\n",
        "theta_tst = sym.Symbol('theta_tst',positive=True)\n",
        "M = sym.Symbol('d',positive=True)\n",
        "N = sym.Symbol('N',positive=True)\n",
        "Ntst = sym.Symbol('Ntst',positive=True)"
      ]
    },
    {
      "cell_type": "code",
      "execution_count": null,
      "metadata": {
        "id": "7COlf3zyCGwg"
      },
      "outputs": [],
      "source": [
        "# First do c < 1, here mu = mu**2\n",
        "\n",
        "def sym_lambda_inverse_N(c,mu):\n",
        "  b = -(1-c+mu)\n",
        "  a = -c*mu\n",
        "  cq = 1\n",
        "  numerator1 = -1*b - sym.sqrt(b ** 2 - 4*a*cq)\n",
        "  denominator = 2*a\n",
        "  return numerator1/denominator\n",
        "\n",
        "def sym_lambda_inverse_M(c,mu):\n",
        "  return c*sym_lambda_inverse_N(c, c*mu)\n",
        "\n",
        "def sym_lambda_inverse_square_N(c,mu):\n",
        "  m = sym_lambda_inverse_N(c,mu)\n",
        "  num = c*m*m + m\n",
        "  den = -2*c*mu*m - 1 + c - mu\n",
        "  return -1*num/den\n",
        "\n",
        "def sym_lambda_inverse_square_M(c,mu):\n",
        "  return c*c*sym_lambda_inverse_square_N(c, c*mu) \n",
        "\n",
        "def sym_scale(c,mu):\n",
        "  return 1 - (mu)*sym_lambda_inverse_M(c,mu)\n",
        "\n",
        "def sym_scale_squared(c,mu):\n",
        "  return sym_lambda_inverse_M(c, mu) - (mu)*sym_lambda_inverse_square_M(c, mu)\n",
        "\n",
        "def sym_tnorm(c,mu):\n",
        "  return 1 - sym_scale(c,mu)*c\n",
        "\n",
        "def sym_tnorm_data(c,mu,M):\n",
        "  theta = sym.sqrt(M/c)\n",
        "  return (theta**2)*(1 - sym_scale(c,mu)*c)\n",
        "\n",
        "def sym_hnorm(c,mu):\n",
        "  return c*sym_scale_squared(c,mu)\n",
        "\n",
        "def sym_knorm(c,mu):\n",
        "  return sym_lambda_inverse_M(c,mu)\n",
        "\n",
        "def sym_trace_term(c,mu):\n",
        "  return sym_lambda_inverse_square_M(c,mu)\n",
        "\n",
        "def sym_tau(c,mu,theta):\n",
        "  return 1+(theta**2)*sym_tnorm(c,mu)*sym_knorm(c,mu)\n",
        "\n",
        "def sym_tau_data(c,mu,M):\n",
        "  theta = sym.sqrt(M/c)\n",
        "  return 1+(theta**2)*sym_tnorm(c,mu)*sym_knorm(c,mu)\n",
        "  \n",
        "def sym_term1(c,mu,theta):\n",
        "  return (theta**2)*sym_hnorm(c,mu)/(sym_tau(c,mu,theta)**2)\n",
        "\n",
        "def sym_term2(c,mu,theta):\n",
        "  return (theta**4)*(sym_tnorm(c,mu)**2)*(sym_trace_term(c,mu))/(sym_tau(c,mu,theta)**2)\n",
        "\n",
        "def sym_term1_data(c,mu,M):\n",
        "  theta = sym.sqrt(M/c)\n",
        "  return (theta**2)*sym_hnorm(c,mu)/(sym_tau(c,mu,theta)**2)\n",
        "\n",
        "def sym_term2_data(c,mu,M):\n",
        "  theta = sym.sqrt(M/c)\n",
        "  return (theta**4)*(sym_tnorm(c,mu)**2)*(sym_trace_term(c,mu))/(sym_tau(c,mu,theta)**2)\n",
        "\n",
        "def sym_wnorm(c,mu,theta):\n",
        "  return sym_term1(c,mu,theta)+sym_term2(c,mu,theta)\n",
        "\n",
        "def sym_wnorm_data(c,mu,M):\n",
        "  theta = sym.sqrt(M/c)\n",
        "  return sym_wnorm(c,mu,theta)/M\n",
        "\n",
        "def sym_bias(c,mu,theta,thetatst,Ntst):\n",
        "  return (thetatst**2)/(Ntst*sym_tau(c,mu,theta)**2)\n",
        "\n",
        "def sym_bias_data(c,mu,M,Ntst):\n",
        "  thetatst = sym.sqrt(Ntst)\n",
        "  theta = sym.sqrt(M/c)\n",
        "  return (thetatst**2)/(Ntst*sym_tau(c,mu,theta)**2)\n",
        "\n",
        "def sym_gen_error_opt(c,mu,Ntst,M):\n",
        "  thetatst = sym.sqrt(Ntst)\n",
        "  theta = optimal_theta_over(c,mu,thetatst,Ntst,M)\n",
        "  return sym_bias(c,mu,theta,thetatst,Ntst) + sym_wnorm(c,mu,theta)/M\n",
        "\n",
        "def sym_gen_error(c,mu,Ntst,M):\n",
        "  thetatst = sym.sqrt(Ntst)\n",
        "  theta = sym.sqrt(M/c)\n",
        "  return sym_bias(c,mu,theta,thetatst,Ntst) + sym_wnorm(c,mu,theta)/M\n",
        "\n",
        "def sym_scale_both_squared(c,mu):\n",
        "  return sym_scale(c,mu) - (mu)*sym_scale_squared(c,mu) \n",
        "\n",
        "def sym_term1_training_error(c,mu,theta):\n",
        "  return c * sym_scale_both_squared(c,mu)*(theta**2)/(sym_tau(c,mu,theta)**2)\n",
        "\n",
        "def sym_term2_training_error(c,mu,theta):\n",
        "  return (sym_tnorm(c,mu)**2) * sym_scale_squared(c,mu)*(theta**4)/(sym_tau(c,mu,theta)**2)\n",
        "  \n",
        "def sym_wnorm_train(c,mu,theta):\n",
        "  return sym_term1_training_error(c,mu,theta) + sym_term2_training_error(c,mu,theta)\n",
        "\n",
        "def sym_training_trace_term(c,mu,theta):\n",
        "  return ((theta**2) * c * sym_scale(c,mu) / sym_tau(c,mu,theta)) - sym_trace2(c,mu,theta)\n",
        "\n",
        "def sym_const_term(c,mu,theta):\n",
        "  return theta ** 2 / (sym_tau(c,mu,theta)**2)\n",
        "\n",
        "def sym_trace2(c,mu,theta):\n",
        "  return c * (theta**4) * sym_knorm(c,mu) * sym_tnorm(c,mu) * sym_scale(c,mu) / (sym_tau(c,mu,theta)**2)\n",
        "\n",
        "def sym_training_error(c,mu,N,M):\n",
        "  theta = sym.sqrt(M/c)\n",
        "  return (sym_const_term(c,mu,theta) + sym_wnorm_train(c,mu,theta) - 2*sym_training_trace_term(c,mu,theta))/N\n",
        "\n",
        "def optimal_theta(c,mu,thetatst,Ntst,M):\n",
        "  num = 2 * (thetatst**2 / Ntst) * sym_tnorm(c,mu) * sym_knorm(c,mu) * M - sym_hnorm(c,mu)\n",
        "  denom = 2 * sym_tnorm(c,mu) ** 2 * sym_trace_term(c,mu) - sym_hnorm(c,mu) * sym_tnorm(c,mu) * sym_knorm(c,mu)\n",
        "  return num / denom"
      ]
    },
    {
      "cell_type": "code",
      "execution_count": null,
      "metadata": {
        "id": "kFGvd96DJ76V"
      },
      "outputs": [],
      "source": [
        "# c > 1\n",
        "\n",
        "def sym_lambda_inverse_M_over(c,mu):\n",
        "  return sym_lambda_inverse_N(1/c, mu)\n",
        "\n",
        "def sym_lambda_inverse_square_M_over(c,mu):\n",
        "  return sym_lambda_inverse_square_N(1/c, mu) \n",
        "\n",
        "def sym_scale_over(c,mu):\n",
        "  return 1 - (mu)*sym_lambda_inverse_N(1/c,mu)\n",
        "\n",
        "def sym_scale_squared_over(c,mu):\n",
        "  return sym_lambda_inverse_N(1/c, mu) - (mu)*sym_lambda_inverse_square_N(1/c, mu)\n",
        "\n",
        "def sym_tnorm_over(c,mu):\n",
        "  return 1 - sym_scale_over(c,mu)\n",
        "\n",
        "def sym_hnorm_over(c,mu):\n",
        "  return sym_scale_squared_over(c,mu)\n",
        "\n",
        "def sym_knorm_over(c,mu):\n",
        "  return sym_lambda_inverse_N(1/c,mu)/c + (1-1/c)/(mu)\n",
        "\n",
        "def sym_trace_term_over(c,mu):\n",
        "  return sym_lambda_inverse_square_N(1/c,mu)/c + (1-1/c)/(mu**2)\n",
        "\n",
        "def sym_tau_over(c,mu,theta):\n",
        "  return 1+(theta**2)*sym_tnorm_over(c,mu)*sym_knorm_over(c,mu)\n",
        "  \n",
        "def sym_term1_over(c,mu,theta):\n",
        "  return (theta**2)*sym_hnorm_over(c,mu)/(sym_tau_over(c,mu,theta)**2)\n",
        "\n",
        "def sym_term2_over(c,mu,theta):\n",
        "  return (theta**4)*(sym_tnorm_over(c,mu)**2)*(sym_trace_term_over(c,mu))/(sym_tau_over(c,mu,theta)**2)\n",
        "\n",
        "def sym_wnorm_over(c,mu,theta):\n",
        "  return sym_term1_over(c,mu,theta)+sym_term2_over(c,mu,theta)\n",
        "\n",
        "def sym_bias_over(c,mu,theta,thetatst,Ntst):\n",
        "  return (thetatst**2)/(Ntst*sym_tau_over(c,mu,theta)**2)\n",
        "\n",
        "def sym_bias_data_over(c,mu,M,Ntst):\n",
        "  thetatst = sym.sqrt(Ntst)\n",
        "  theta = sym.sqrt(M/c)\n",
        "  return (thetatst**2)/(Ntst*sym_tau_over(c,mu,theta)**2)\n",
        "\n",
        "def sym_wnorm_data_over(c,mu,M):\n",
        "  theta = sym.sqrt(M/c)\n",
        "  return sym_wnorm_over(c,mu,theta)/M\n",
        "\n",
        "def sym_gen_error_opt_over(c,mu,Ntst,M):\n",
        "  thetatst = sym.sqrt(Ntst)\n",
        "  theta = optimal_theta_over(c,mu,thetatst,Ntst,M)\n",
        "  return sym_bias_over(c,mu,theta,thetatst,Ntst) + sym_wnorm_over(c,mu,theta)/M\n",
        "\n",
        "def sym_gen_error_over(c,mu,Ntst,M):\n",
        "  thetatst = sym.sqrt(Ntst)\n",
        "  theta = sym.sqrt(M/c)\n",
        "  return sym_bias_over(c,mu,theta,thetatst,Ntst) + sym_wnorm_over(c,mu,theta)/M\n",
        "\n",
        "def optimal_theta_over(c,mu,thetatst,Ntst,M):\n",
        "  num = 2 * (thetatst**2 / Ntst) * sym_tnorm_over(c,mu) * sym_knorm_over(c,mu) * M - sym_hnorm_over(c,mu)\n",
        "  denom = 2 * sym_tnorm_over(c,mu) ** 2 * sym_trace_term_over(c,mu) - sym_hnorm_over(c,mu) * sym_tnorm_over(c,mu) * sym_knorm_over(c,mu)\n",
        "  return num / denom"
      ]
    },
    {
      "cell_type": "code",
      "execution_count": null,
      "metadata": {
        "id": "DvrpfsFPyPtm"
      },
      "outputs": [],
      "source": [
        "def sym_sim_lambda_inverse_M(c,mu):\n",
        "  return (sym.sqrt((1+mu*c-c)**2 + 4*mu*c**2) -1 - mu*c + c)/(2*mu*c)\n",
        "\n",
        "def sym_sim_lambda_inverse_N(c,mu):\n",
        "  return (sym.sqrt(((c+mu*c-1)**2 + 4*mu*c)) + 1 - mu*c - c)/(2*mu)\n",
        "\n",
        "def sym_sim_lambda_inverse_square_M(c,mu):\n",
        "  term = sym.sqrt(4*mu*c**2 + (1-c+mu*c)**2)\n",
        "  return (c**2 +mu*c**2 +c*mu - 2*c +1 )/(2*mu**2*c * term) + 1/(2*mu**2)*(1-1/c)\n",
        "\n",
        "def sym_sim_lambda_inverse_square_N(c,mu):\n",
        "  term = sym.sqrt(4*mu*c + (c-1+mu*c)**2)\n",
        "  return (c**2 +mu*c**2 +c*mu - 2*c +1 )/(2*mu**2 * term) + 1/(2*mu**2)*(1-c)\n",
        "\n",
        "def sym_sim_scale(c,mu):\n",
        "  return 1/2 + (1+mu*c-sym.sqrt((1+mu*c-c)**2 + 4*mu*c**2))/(2*c)\n",
        "\n",
        "def sym_sim_scale_squared(c,mu):\n",
        "  return -1/2 + (1+c+mu*c)/(2*sym.sqrt((1+mu*c-c)**2 + 4*mu*c**2))\n",
        "\n",
        "def sym_sim_scale_squared_over(c,mu):\n",
        "  return c*(-1/2 + (1+c+mu*c)/(2*sym.sqrt((-1+mu*c-c)**2 + 4*mu*c)))\n",
        "\n",
        "def sym_sim_scale_over(c,mu):\n",
        "  return c/2 + (1+mu*c-sym.sqrt((-1+mu*c+c)**2 + 4*mu*c))/(2)\n",
        "\n",
        "def sym_sim_hnorm(c,mu):\n",
        "  return c * ((1+c+mu*c)/(2*sym.sqrt((1-c+c*mu)**2 + 4*c**2 * mu)) - 0.5)\n",
        "\n",
        "def sym_sim_hnorm_over(c,mu):\n",
        "  return c * ((1+c+mu*c)/(2*sym.sqrt((-1+c+c*mu)**2 + 4*c * mu)) - 0.5)\n",
        "\n",
        "def sym_sim_knorm(c,mu):\n",
        "  return (sym.sqrt((1+mu*c-c)**2 + 4*mu*c**2) -1 - mu*c + c)/(2*mu*c)\n",
        "\n",
        "def sym_sim_knorm_over(c,mu):\n",
        "  return (sym.sqrt((-1+mu*c+c)**2 + 4*mu*c) -1 - mu*c + c)/(2*mu*c)\n",
        "\n",
        "def sym_sim_tnorm(c,mu):\n",
        "  return (1-mu*c-c+sym.sqrt((1+mu*c-c)**2 + 4*mu*c**2))/2\n",
        "\n",
        "def sym_sim_tnorm_over(c,mu):\n",
        "  return (1-mu*c-c+sym.sqrt((-1+mu*c+c)**2 + 4*mu*c))/2\n",
        "\n",
        "def sym_sim_tau(c,mu,theta):\n",
        "  return 1 + theta**2 * (1+c+mu*c - sym.sqrt((1-c+mu*c)**2 + 4*mu*c**2))/2\n",
        "\n",
        "def sym_sim_tau_over(c,mu,theta):\n",
        "  return 1 + theta**2 * (1+c+mu*c - sym.sqrt((-1+c+mu*c)**2 + 4*mu*c))/2\n",
        "\n",
        "def sym_sim_trace_term(c,mu):\n",
        "  term = sym.sqrt(4*mu*c**2 + (1-c+mu*c)**2)\n",
        "  return (c**2 +mu*c**2 +c*mu - 2*c +1 )/(2*mu**2*c * term) + 1/(2*mu**2)*(1-1/c)\n",
        "\n",
        "def sym_sim_trace_term_over(c,mu):\n",
        "  term = sym.sqrt(4*mu*c + (-1+c+mu*c)**2)\n",
        "  return (c**2 +mu*c**2 +c*mu - 2*c +1 )/(2*mu**2*c * term) + (1-1/c)*(1/(2*mu**2))\n",
        "\n",
        "def sym_sim_var(c,mu,theta):\n",
        "  return (c*theta**2)*(theta**2+1)*((mu*c+c+1)/sym.sqrt((1-c+mu*c)**2 + 4*mu*c**2)-1)/2\n",
        "\n",
        "def sym_sim_var_over(c,mu,theta):\n",
        "  return (c*theta**2)*(theta**2+1)*((mu*c+c+1)/sym.sqrt((-1+c+mu*c)**2 + 4*mu*c)-1)/2\n",
        "\n",
        "def sym_sim_gen_error(c,mu,theta,M):\n",
        "  return (1 + sym_sim_var(c,mu,theta)/M)/(sym_sim_tau(c,mu,theta)**2)\n",
        "\n",
        "def sym_sim_scale_both_squared(c,mu):\n",
        "  return sym_sim_scale(c,mu) - (mu)*sym_sim_scale_squared(c,mu) \n",
        "\n",
        "def sym_sim_term1_training_error(c,mu,theta):\n",
        "  return c * sym_sim_scale_both_squared(c,mu)*(theta**2)/(sym_sim_tau(c,mu,theta)**2)\n",
        "\n",
        "def sym_sim_term2_training_error(c,mu,theta):\n",
        "  return (sym_sim_tnorm(c,mu)**2) * sym_sim_scale_squared(c,mu)*(theta**4)/(sym_sim_tau(c,mu,theta)**2)\n",
        "  \n",
        "def sym_sim_wnorm_train(c,mu,theta):\n",
        "  return sym_sim_term1_training_error(c,mu,theta) + sym_sim_term2_training_error(c,mu,theta)\n",
        "\n",
        "def sym_sim_training_trace_term(c,mu,theta):\n",
        "  return ((theta**2) * c * sym_sim_scale(c,mu) / sym_sim_tau(c,mu,theta)) - sym_sim_trace2(c,mu,theta)\n",
        "\n",
        "def sym_sim_const_term(c,mu,theta):\n",
        "  return theta ** 2 / (sym_sim_tau(c,mu,theta)**2)\n",
        "\n",
        "def sym_sim_trace2(c,mu,theta):\n",
        "  return c * (theta**4) * sym_sim_knorm(c,mu) * sym_sim_tnorm(c,mu) * sym_sim_scale(c,mu) / (sym_sim_tau(c,mu,theta)**2)\n",
        "\n",
        "def sym_sim_training_error(c,mu,M):\n",
        "  N = M/c\n",
        "  theta = sym.sqrt(M/c)\n",
        "  return (sym_sim_const_term(c,mu,theta) + sym_sim_wnorm_train(c,mu,theta) - 2*sym_sim_training_trace_term(c,mu,theta))/N\n",
        "\n",
        "def sym_sim_training_error_param(c,mu,N):\n",
        "  M = N*c\n",
        "  theta = sym.sqrt(N)\n",
        "  return (sym_sim_const_term(c,mu,theta) + sym_sim_wnorm_train(c,mu,theta) - 2*sym_sim_training_trace_term(c,mu,theta))/N  \n",
        "\n",
        "def sym_sim_optimal_theta(c,mu,thetatst,Ntst,M):\n",
        "  num = 2 * (thetatst**2 / Ntst) * sym_sim_tnorm(c,mu) * sym_sim_knorm(c,mu) * M - sym_sim_hnorm(c,mu)\n",
        "  denom = 2 * sym_sim_tnorm(c,mu) ** 2 * sym_sim_trace_term(c,mu) - sym_sim_hnorm(c,mu) * sym_sim_tnorm(c,mu) * sym_sim_knorm(c,mu)\n",
        "  return num / denom"
      ]
    },
    {
      "cell_type": "code",
      "execution_count": null,
      "metadata": {
        "colab": {
          "base_uri": "https://localhost:8080/"
        },
        "id": "mirTUucTeZrs",
        "outputId": "2df4de1a-4fb2-4b32-d51e-be2b3385b86d"
      },
      "outputs": [
        {
          "output_type": "execute_result",
          "data": {
            "text/plain": [
              "2000"
            ]
          },
          "metadata": {},
          "execution_count": 6
        }
      ],
      "source": [
        "import sys\n",
        "sys.setrecursionlimit(2000)\n",
        "sys.getrecursionlimit()"
      ]
    },
    {
      "cell_type": "code",
      "execution_count": null,
      "metadata": {
        "colab": {
          "base_uri": "https://localhost:8080/"
        },
        "id": "sfPsBBlyBKXC",
        "outputId": "20f0a255-b3a1-4a31-9e9d-86f85dc7f1c3"
      },
      "outputs": [
        {
          "name": "stdout",
          "output_type": "stream",
          "text": [
            "Mounted at /content/drive\n"
          ]
        }
      ],
      "source": [
        "from google.colab import drive\n",
        "drive.mount('/content/drive')"
      ]
    },
    {
      "cell_type": "markdown",
      "source": [
        "# Experiment for computing and plotting the derivative of the training error"
      ],
      "metadata": {
        "id": "OMjNga8nR4gk"
      }
    },
    {
      "cell_type": "code",
      "execution_count": null,
      "metadata": {
        "id": "fHXSH0eyH27F"
      },
      "outputs": [],
      "source": [
        "f = sym.lambdify([c,mu,M], sym_sim_training_error(c,mu,M), \"numpy\")\n",
        "df = sym.lambdify([c,mu,M], sym_sim_training_error(c,mu,M).diff(c), \"numpy\")\n",
        "ddf = sym.lambdify([c,mu,M], sym_sim_training_error(c,mu,M).diff(c).diff(c), \"numpy\")\n",
        "dddf = sym.lambdify([c,mu,M], sym_sim_training_error(c,mu,M).diff(c).diff(c).diff(c), \"numpy\")\n",
        "# ddddf = sym.lambdify([c,mu,M], sym_sim_training_error(c,mu,M).diff(c).diff(c).diff(c).diff(c), \"numpy\")\n",
        "# dddddf = sym.lambdify([c,mu,M], sym_sim_training_error(c,mu,M).diff(c).diff(c).diff(c).diff(c).diff(c), \"numpy\")"
      ]
    },
    {
      "cell_type": "code",
      "execution_count": null,
      "metadata": {
        "colab": {
          "background_save": true,
          "base_uri": "https://localhost:8080/"
        },
        "id": "L1JbGZLFwswa",
        "outputId": "9e1142a5-64f5-43a1-846a-01586e513afa"
      },
      "outputs": [
        {
          "name": "stderr",
          "output_type": "stream",
          "text": [
            "100%|██████████| 100/100 [1:57:55<00:00, 70.75s/it]\n"
          ]
        }
      ],
      "source": [
        "from tqdm import tqdm\n",
        "\n",
        "# f = sym_sim_training_error(c,mu,N)\n",
        "# df = sym_sim_training_error(c,mu,N).diff(c)\n",
        "# ddf = sym_sim_training_error(c,mu,N).diff(c).diff(c)\n",
        "# dddf = sym_sim_training_error(c,mu,N).diff(c).diff(c).diff(c)\n",
        "\n",
        "mu_values = torch.linspace(0.04,10,100)\n",
        "c_values = torch.linspace(0.005,1,500)\n",
        "\n",
        "values = torch.zeros(4,100,500)\n",
        "M_value = 1000\n",
        "\n",
        "for i in tqdm(list(range(100))):\n",
        "  mu_value = mu_values[i]\n",
        "  for j,c_value in enumerate(c_values):\n",
        "    values[0,i,j] = f(c_value,mu_value,M_value) #float(f.evalf(subs={c:c_value,mu:mu_value,N:M_value}))\n",
        "    values[1,i,j] = df(c_value,mu_value,M_value) #float(df.evalf(subs={c:c_value,mu:mu_value,N:M_value}))\n",
        "    values[2,i,j] = ddf(c_value,mu_value,M_value) #float(ddf.evalf(subs={c:c_value,mu:mu_value,N:M_value}))\n",
        "    values[3,i,j] = dddf(c_value,mu_value,M_value) #float(dddf.evalf(subs={c:c_value,mu:mu_value,N:M_value}))\n",
        "\n",
        "torch.save(values,\"drive/MyDrive/derivative_data-more-mu.pt\")"
      ]
    },
    {
      "cell_type": "code",
      "execution_count": null,
      "metadata": {
        "colab": {
          "background_save": true
        },
        "id": "12OnLrF-Kz1j",
        "outputId": "f17a60e0-03a2-4c50-f18f-b0253af794de"
      },
      "outputs": [
        {
          "name": "stderr",
          "output_type": "stream",
          "text": [
            "100%|██████████| 100/100 [59:22<00:00, 35.63s/it]\n"
          ]
        }
      ],
      "source": [
        "f = sym.lambdify([c,mu,N], sym_sim_training_error_param(c,mu,N), \"numpy\")\n",
        "df = sym.lambdify([c,mu,N], sym_sim_training_error_param(c,mu,N).diff(c), \"numpy\")\n",
        "ddf = sym.lambdify([c,mu,N], sym_sim_training_error_param(c,mu,N).diff(c).diff(c), \"numpy\")\n",
        "dddf = sym.lambdify([c,mu,N], sym_sim_training_error_param(c,mu,N).diff(c).diff(c).diff(c), \"numpy\")\n",
        "\n",
        "\n",
        "mu_values = torch.linspace(0.04,10,100)\n",
        "c_values = torch.linspace(0.005,1,500)\n",
        "\n",
        "values = torch.zeros(4,100,500)\n",
        "N_value = 1000\n",
        "\n",
        "for i in tqdm(list(range(100))):\n",
        "  mu_value = mu_values[i]\n",
        "  for j,c_value in enumerate(c_values):\n",
        "    values[0,i,j] = f(c_value,mu_value,N_value) #float(f.evalf(subs={c:c_value,mu:mu_value,N:M_value}))\n",
        "    values[1,i,j] = df(c_value,mu_value,N_value) #float(df.evalf(subs={c:c_value,mu:mu_value,N:M_value}))\n",
        "    values[2,i,j] = ddf(c_value,mu_value,N_value) #float(ddf.evalf(subs={c:c_value,mu:mu_value,N:M_value}))\n",
        "    values[3,i,j] = dddf(c_value,mu_value,N_value) #float(dddf.evalf(subs={c:c_value,mu:mu_value,N:M_value}))\n",
        "\n",
        "torch.save(values,\"drive/MyDrive/derivative_parameter-more-mu.pt\")"
      ]
    },
    {
      "cell_type": "markdown",
      "source": [
        "# Calculations for the Proof of Theorem 2"
      ],
      "metadata": {
        "id": "V6JQ8fhZR_lZ"
      }
    },
    {
      "cell_type": "code",
      "source": [
        "theta = sym.sqrt(M/c)\n",
        "# mu = mu**2"
      ],
      "metadata": {
        "id": "brJsHaLZgm9i"
      },
      "execution_count": null,
      "outputs": []
    },
    {
      "cell_type": "code",
      "source": [
        "expr = sym_sim_gen_error(c,mu,theta,M).diff(c).simplify()\n",
        "expr"
      ],
      "metadata": {
        "colab": {
          "base_uri": "https://localhost:8080/",
          "height": 127
        },
        "id": "dik6aApvbS_Y",
        "outputId": "6b36c70a-b16b-4a4e-ac50-f589194658d3"
      },
      "execution_count": null,
      "outputs": [
        {
          "output_type": "execute_result",
          "data": {
            "text/plain": [
              "2*(2*d*(-2*c*sqrt(4*c**2*mu**2 + (c*mu**2 - c + 1)**2) + (c + d)*(-c*mu**2 - c + sqrt(4*c**2*mu**2 + (c*mu**2 - c + 1)**2) - 1))*(c*(-4*c*mu**2 - (mu**2 - 1)*(c*mu**2 - c + 1) + (mu**2 + 1)*sqrt(4*c**2*mu**2 + (c*mu**2 - c + 1)**2)) - sqrt(4*c**2*mu**2 + (c*mu**2 - c + 1)**2)*(c*mu**2 + c - sqrt(4*c**2*mu**2 + (c*mu**2 - c + 1)**2) + 1))*(4*c**2*mu**2 + (c*mu**2 - c + 1)**2)**(5/2) + (2*c + d*(c*mu**2 + c - sqrt(4*c**2*mu**2 + (c*mu**2 - c + 1)**2) + 1))*(4*c**2*mu**2 + (c*mu**2 - c + 1)**2)**2*(c*(c + d)*((mu**2 + 1)*(4*c**2*mu**2 + (c*mu**2 - c + 1)**2) - (4*c*mu**2 + (mu**2 - 1)*(c*mu**2 - c + 1))*(c*mu**2 + c + 1)) + d*(4*c**2*mu**2 + (c*mu**2 - c + 1)**2)*(-c*mu**2 - c + sqrt(4*c**2*mu**2 + (c*mu**2 - c + 1)**2) - 1)))/((2*c + d*(c*mu**2 + c - sqrt(4*c**2*mu**2 + (c*mu**2 - c + 1)**2) + 1))**3*(4*c**2*mu**2 + (c*mu**2 - c + 1)**2)**(7/2))"
            ],
            "text/latex": "$\\displaystyle \\frac{2 \\cdot \\left(2 d \\left(- 2 c \\sqrt{4 c^{2} \\mu^{2} + \\left(c \\mu^{2} - c + 1\\right)^{2}} + \\left(c + d\\right) \\left(- c \\mu^{2} - c + \\sqrt{4 c^{2} \\mu^{2} + \\left(c \\mu^{2} - c + 1\\right)^{2}} - 1\\right)\\right) \\left(c \\left(- 4 c \\mu^{2} - \\left(\\mu^{2} - 1\\right) \\left(c \\mu^{2} - c + 1\\right) + \\left(\\mu^{2} + 1\\right) \\sqrt{4 c^{2} \\mu^{2} + \\left(c \\mu^{2} - c + 1\\right)^{2}}\\right) - \\sqrt{4 c^{2} \\mu^{2} + \\left(c \\mu^{2} - c + 1\\right)^{2}} \\left(c \\mu^{2} + c - \\sqrt{4 c^{2} \\mu^{2} + \\left(c \\mu^{2} - c + 1\\right)^{2}} + 1\\right)\\right) \\left(4 c^{2} \\mu^{2} + \\left(c \\mu^{2} - c + 1\\right)^{2}\\right)^{\\frac{5}{2}} + \\left(2 c + d \\left(c \\mu^{2} + c - \\sqrt{4 c^{2} \\mu^{2} + \\left(c \\mu^{2} - c + 1\\right)^{2}} + 1\\right)\\right) \\left(4 c^{2} \\mu^{2} + \\left(c \\mu^{2} - c + 1\\right)^{2}\\right)^{2} \\left(c \\left(c + d\\right) \\left(\\left(\\mu^{2} + 1\\right) \\left(4 c^{2} \\mu^{2} + \\left(c \\mu^{2} - c + 1\\right)^{2}\\right) - \\left(4 c \\mu^{2} + \\left(\\mu^{2} - 1\\right) \\left(c \\mu^{2} - c + 1\\right)\\right) \\left(c \\mu^{2} + c + 1\\right)\\right) + d \\left(4 c^{2} \\mu^{2} + \\left(c \\mu^{2} - c + 1\\right)^{2}\\right) \\left(- c \\mu^{2} - c + \\sqrt{4 c^{2} \\mu^{2} + \\left(c \\mu^{2} - c + 1\\right)^{2}} - 1\\right)\\right)\\right)}{\\left(2 c + d \\left(c \\mu^{2} + c - \\sqrt{4 c^{2} \\mu^{2} + \\left(c \\mu^{2} - c + 1\\right)^{2}} + 1\\right)\\right)^{3} \\left(4 c^{2} \\mu^{2} + \\left(c \\mu^{2} - c + 1\\right)^{2}\\right)^{\\frac{7}{2}}}$"
          },
          "metadata": {},
          "execution_count": 30
        }
      ]
    },
    {
      "cell_type": "code",
      "source": [
        "print(sym.latex(sym_sim_gen_error(c,mu,theta,M).diff(c)))"
      ],
      "metadata": {
        "id": "jACvMNoJSGw9",
        "colab": {
          "base_uri": "https://localhost:8080/"
        },
        "outputId": "91b1aeb1-a56d-4cc8-f443-8f593ada4209"
      },
      "execution_count": null,
      "outputs": [
        {
          "output_type": "stream",
          "name": "stdout",
          "text": [
            "\\frac{\\frac{\\left(1 + \\frac{d}{c}\\right) \\left(\\frac{\\mu^{2} + 1}{\\sqrt{4 c^{2} \\mu^{2} + \\left(c \\mu^{2} - c + 1\\right)^{2}}} + \\frac{\\left(- 4 c \\mu^{2} - \\frac{\\left(2 \\mu^{2} - 2\\right) \\left(c \\mu^{2} - c + 1\\right)}{2}\\right) \\left(c \\mu^{2} + c + 1\\right)}{\\left(4 c^{2} \\mu^{2} + \\left(c \\mu^{2} - c + 1\\right)^{2}\\right)^{\\frac{3}{2}}}\\right)}{2} - \\frac{d \\left(-1 + \\frac{c \\mu^{2} + c + 1}{\\sqrt{4 c^{2} \\mu^{2} + \\left(c \\mu^{2} - c + 1\\right)^{2}}}\\right)}{2 c^{2}}}{\\left(1 + \\frac{d \\left(c \\mu^{2} + c - \\sqrt{4 c^{2} \\mu^{2} + \\left(c \\mu^{2} - c + 1\\right)^{2}} + 1\\right)}{2 c}\\right)^{2}} + \\frac{\\left(\\frac{\\left(-1 + \\frac{c \\mu^{2} + c + 1}{\\sqrt{4 c^{2} \\mu^{2} + \\left(c \\mu^{2} - c + 1\\right)^{2}}}\\right) \\left(1 + \\frac{d}{c}\\right)}{2} + 1\\right) \\left(- \\frac{d \\left(\\mu^{2} - \\frac{4 c \\mu^{2} + \\frac{\\left(2 \\mu^{2} - 2\\right) \\left(c \\mu^{2} - c + 1\\right)}{2}}{\\sqrt{4 c^{2} \\mu^{2} + \\left(c \\mu^{2} - c + 1\\right)^{2}}} + 1\\right)}{c} + \\frac{d \\left(c \\mu^{2} + c - \\sqrt{4 c^{2} \\mu^{2} + \\left(c \\mu^{2} - c + 1\\right)^{2}} + 1\\right)}{c^{2}}\\right)}{\\left(1 + \\frac{d \\left(c \\mu^{2} + c - \\sqrt{4 c^{2} \\mu^{2} + \\left(c \\mu^{2} - c + 1\\right)^{2}} + 1\\right)}{2 c}\\right)^{3}}\n"
          ]
        }
      ]
    },
    {
      "cell_type": "code",
      "source": [
        "sym.limit(expr,c,0).simplify()"
      ],
      "metadata": {
        "colab": {
          "base_uri": "https://localhost:8080/",
          "height": 52
        },
        "id": "kSVJq7bJcOrM",
        "outputId": "82947f20-f978-4226-9144-6984ce98d9bf"
      },
      "execution_count": null,
      "outputs": [
        {
          "output_type": "execute_result",
          "data": {
            "text/plain": [
              "1/(d + 1)"
            ],
            "text/latex": "$\\displaystyle \\frac{1}{d + 1}$"
          },
          "metadata": {},
          "execution_count": 34
        }
      ]
    },
    {
      "cell_type": "code",
      "source": [
        "expr2 = sym.limit(expr,c,1)\n",
        "expr2"
      ],
      "metadata": {
        "colab": {
          "base_uri": "https://localhost:8080/",
          "height": 106
        },
        "id": "YNlKYEklgQH1",
        "outputId": "46097c67-b695-47c6-dbb3-807d3b786ec6"
      },
      "execution_count": null,
      "outputs": [
        {
          "output_type": "execute_result",
          "data": {
            "text/plain": [
              "2*(-2*d**2*mu**16 + 2*d**2*mu**15*sqrt(mu**2 + 4) - 28*d**2*mu**14 + 24*d**2*mu**13*sqrt(mu**2 + 4) - 146*d**2*mu**12 + 102*d**2*mu**11*sqrt(mu**2 + 4) - 340*d**2*mu**10 + 176*d**2*mu**9*sqrt(mu**2 + 4) - 320*d**2*mu**8 + 96*d**2*mu**7*sqrt(mu**2 + 4) - 64*d**2*mu**6 - 2*d*mu**14 + 2*d*mu**13*sqrt(mu**2 + 4) - 26*d*mu**12 + 30*d*mu**11*sqrt(mu**2 + 4) - 120*d*mu**10 + 144*d*mu**9*sqrt(mu**2 + 4) - 224*d*mu**8 + 224*d*mu**7*sqrt(mu**2 + 4) - 128*d*mu**6 - 4*mu**10 - 32*mu**8 - 64*mu**6)/((mu**4 + 4*mu**2)**(7/2)*(d*mu**2 - d*mu*sqrt(mu**2 + 4) + 2*d + 2)**3)"
            ],
            "text/latex": "$\\displaystyle \\frac{2 \\left(- 2 d^{2} \\mu^{16} + 2 d^{2} \\mu^{15} \\sqrt{\\mu^{2} + 4} - 28 d^{2} \\mu^{14} + 24 d^{2} \\mu^{13} \\sqrt{\\mu^{2} + 4} - 146 d^{2} \\mu^{12} + 102 d^{2} \\mu^{11} \\sqrt{\\mu^{2} + 4} - 340 d^{2} \\mu^{10} + 176 d^{2} \\mu^{9} \\sqrt{\\mu^{2} + 4} - 320 d^{2} \\mu^{8} + 96 d^{2} \\mu^{7} \\sqrt{\\mu^{2} + 4} - 64 d^{2} \\mu^{6} - 2 d \\mu^{14} + 2 d \\mu^{13} \\sqrt{\\mu^{2} + 4} - 26 d \\mu^{12} + 30 d \\mu^{11} \\sqrt{\\mu^{2} + 4} - 120 d \\mu^{10} + 144 d \\mu^{9} \\sqrt{\\mu^{2} + 4} - 224 d \\mu^{8} + 224 d \\mu^{7} \\sqrt{\\mu^{2} + 4} - 128 d \\mu^{6} - 4 \\mu^{10} - 32 \\mu^{8} - 64 \\mu^{6}\\right)}{\\left(\\mu^{4} + 4 \\mu^{2}\\right)^{\\frac{7}{2}} \\left(d \\mu^{2} - d \\mu \\sqrt{\\mu^{2} + 4} + 2 d + 2\\right)^{3}}$"
          },
          "metadata": {},
          "execution_count": 35
        }
      ]
    },
    {
      "cell_type": "code",
      "source": [
        "print(sym.latex(expr2))"
      ],
      "metadata": {
        "colab": {
          "base_uri": "https://localhost:8080/"
        },
        "id": "iFWvR9NEgY-j",
        "outputId": "79e4a49d-263e-4157-e541-6f6b878bf267"
      },
      "execution_count": null,
      "outputs": [
        {
          "output_type": "stream",
          "name": "stdout",
          "text": [
            "\\frac{2 \\left(- 2 d^{2} \\mu^{16} + 2 d^{2} \\mu^{15} \\sqrt{\\mu^{2} + 4} - 28 d^{2} \\mu^{14} + 24 d^{2} \\mu^{13} \\sqrt{\\mu^{2} + 4} - 146 d^{2} \\mu^{12} + 102 d^{2} \\mu^{11} \\sqrt{\\mu^{2} + 4} - 340 d^{2} \\mu^{10} + 176 d^{2} \\mu^{9} \\sqrt{\\mu^{2} + 4} - 320 d^{2} \\mu^{8} + 96 d^{2} \\mu^{7} \\sqrt{\\mu^{2} + 4} - 64 d^{2} \\mu^{6} - 2 d \\mu^{14} + 2 d \\mu^{13} \\sqrt{\\mu^{2} + 4} - 26 d \\mu^{12} + 30 d \\mu^{11} \\sqrt{\\mu^{2} + 4} - 120 d \\mu^{10} + 144 d \\mu^{9} \\sqrt{\\mu^{2} + 4} - 224 d \\mu^{8} + 224 d \\mu^{7} \\sqrt{\\mu^{2} + 4} - 128 d \\mu^{6} - 4 \\mu^{10} - 32 \\mu^{8} - 64 \\mu^{6}\\right)}{\\left(\\mu^{4} + 4 \\mu^{2}\\right)^{\\frac{7}{2}} \\left(d \\mu^{2} - d \\mu \\sqrt{\\mu^{2} + 4} + 2 d + 2\\right)^{3}}\n"
          ]
        }
      ]
    },
    {
      "cell_type": "code",
      "source": [
        "num,den = sym.fraction(expr2)\n",
        "num.collect(M)"
      ],
      "metadata": {
        "colab": {
          "base_uri": "https://localhost:8080/",
          "height": 77
        },
        "id": "7s9VmsAmjACX",
        "outputId": "95bd6d23-f171-4f7c-8b3f-755ee72647d6"
      },
      "execution_count": null,
      "outputs": [
        {
          "output_type": "execute_result",
          "data": {
            "text/plain": [
              "d**2*(-4*mu**16 + 4*mu**15*sqrt(mu**2 + 4) - 56*mu**14 + 48*mu**13*sqrt(mu**2 + 4) - 292*mu**12 + 204*mu**11*sqrt(mu**2 + 4) - 680*mu**10 + 352*mu**9*sqrt(mu**2 + 4) - 640*mu**8 + 192*mu**7*sqrt(mu**2 + 4) - 128*mu**6) + d*(-4*mu**14 + 4*mu**13*sqrt(mu**2 + 4) - 52*mu**12 + 60*mu**11*sqrt(mu**2 + 4) - 240*mu**10 + 288*mu**9*sqrt(mu**2 + 4) - 448*mu**8 + 448*mu**7*sqrt(mu**2 + 4) - 256*mu**6) - 8*mu**10 - 64*mu**8 - 128*mu**6"
            ],
            "text/latex": "$\\displaystyle d^{2} \\left(- 4 \\mu^{16} + 4 \\mu^{15} \\sqrt{\\mu^{2} + 4} - 56 \\mu^{14} + 48 \\mu^{13} \\sqrt{\\mu^{2} + 4} - 292 \\mu^{12} + 204 \\mu^{11} \\sqrt{\\mu^{2} + 4} - 680 \\mu^{10} + 352 \\mu^{9} \\sqrt{\\mu^{2} + 4} - 640 \\mu^{8} + 192 \\mu^{7} \\sqrt{\\mu^{2} + 4} - 128 \\mu^{6}\\right) + d \\left(- 4 \\mu^{14} + 4 \\mu^{13} \\sqrt{\\mu^{2} + 4} - 52 \\mu^{12} + 60 \\mu^{11} \\sqrt{\\mu^{2} + 4} - 240 \\mu^{10} + 288 \\mu^{9} \\sqrt{\\mu^{2} + 4} - 448 \\mu^{8} + 448 \\mu^{7} \\sqrt{\\mu^{2} + 4} - 256 \\mu^{6}\\right) - 8 \\mu^{10} - 64 \\mu^{8} - 128 \\mu^{6}$"
          },
          "metadata": {},
          "execution_count": 37
        }
      ]
    },
    {
      "cell_type": "markdown",
      "source": [
        "# Computation for Proof of Theorem 3\n"
      ],
      "metadata": {
        "id": "7gT58WEGlE2w"
      }
    },
    {
      "cell_type": "code",
      "source": [
        "T = sym.Symbol('T')"
      ],
      "metadata": {
        "id": "8LY7EqcyfOTG"
      },
      "execution_count": null,
      "outputs": []
    },
    {
      "cell_type": "code",
      "source": [
        "num,den = sym.fraction(expr)\n",
        "print(sym.latex(sym.factor(num).replace(sym.sqrt(c**2*mu**2+2*c**2*mu+c**2+2*c*mu-2*c+1),T)))"
      ],
      "metadata": {
        "colab": {
          "base_uri": "https://localhost:8080/"
        },
        "id": "6_Sou36N1_Qy",
        "outputId": "6f17bfe9-afa1-45f6-e5ff-c00e1a4eea76"
      },
      "execution_count": null,
      "outputs": [
        {
          "output_type": "stream",
          "name": "stdout",
          "text": [
            "- 4 \\left(c^{2} \\mu^{4} + 2 c^{2} \\mu^{2} + c^{2} + 2 c \\mu^{2} - 2 c + 1\\right)^{2} \\left(- T c^{3} d^{2} \\mu^{6} - 3 T c^{3} d^{2} \\mu^{4} - 3 T c^{3} d^{2} \\mu^{2} - T c^{3} d^{2} - T c^{3} d \\mu^{4} - 5 T c^{3} d \\mu^{2} - 4 T c^{3} d - T c^{2} d^{2} \\mu^{4} - T c^{2} d^{2} \\mu^{2} - 2 T c^{2} d \\mu^{2} + 5 T c^{2} d + T c d^{2} \\mu^{2} - T c d + T d^{2} + c^{4} d^{2} \\mu^{8} + 4 c^{4} d^{2} \\mu^{6} + 6 c^{4} d^{2} \\mu^{4} + 4 c^{4} d^{2} \\mu^{2} + c^{4} d^{2} + c^{4} d \\mu^{6} + 2 c^{4} d \\mu^{4} + c^{4} d \\mu^{2} + 2 c^{4} \\mu^{2} + 2 c^{4} + 2 c^{3} d^{2} \\mu^{6} + 3 c^{3} d^{2} \\mu^{4} - c^{3} d^{2} + 3 c^{3} d \\mu^{4} + 5 c^{3} d - 2 c^{3} + 3 c^{2} d \\mu^{2} - 6 c^{2} d - 2 c d^{2} \\mu^{2} + c d^{2} + c d - d^{2}\\right)\n"
          ]
        }
      ]
    },
    {
      "cell_type": "code",
      "source": [
        "sym.factor(num).replace(sym.sqrt(c**2*mu**2+2*c**2*mu+c**2+2*c*mu-2*c+1),T)"
      ],
      "metadata": {
        "colab": {
          "base_uri": "https://localhost:8080/",
          "height": 62
        },
        "id": "Dcganhvt1XP8",
        "outputId": "fa86393b-c555-4a0d-dcb5-af4b75c8c938"
      },
      "execution_count": null,
      "outputs": [
        {
          "output_type": "execute_result",
          "data": {
            "text/plain": [
              "-4*(c**2*mu**4 + 2*c**2*mu**2 + c**2 + 2*c*mu**2 - 2*c + 1)**2*(-T*c**3*d**2*mu**6 - 3*T*c**3*d**2*mu**4 - 3*T*c**3*d**2*mu**2 - T*c**3*d**2 - T*c**3*d*mu**4 - 5*T*c**3*d*mu**2 - 4*T*c**3*d - T*c**2*d**2*mu**4 - T*c**2*d**2*mu**2 - 2*T*c**2*d*mu**2 + 5*T*c**2*d + T*c*d**2*mu**2 - T*c*d + T*d**2 + c**4*d**2*mu**8 + 4*c**4*d**2*mu**6 + 6*c**4*d**2*mu**4 + 4*c**4*d**2*mu**2 + c**4*d**2 + c**4*d*mu**6 + 2*c**4*d*mu**4 + c**4*d*mu**2 + 2*c**4*mu**2 + 2*c**4 + 2*c**3*d**2*mu**6 + 3*c**3*d**2*mu**4 - c**3*d**2 + 3*c**3*d*mu**4 + 5*c**3*d - 2*c**3 + 3*c**2*d*mu**2 - 6*c**2*d - 2*c*d**2*mu**2 + c*d**2 + c*d - d**2)"
            ],
            "text/latex": "$\\displaystyle - 4 \\left(c^{2} \\mu^{4} + 2 c^{2} \\mu^{2} + c^{2} + 2 c \\mu^{2} - 2 c + 1\\right)^{2} \\left(- T c^{3} d^{2} \\mu^{6} - 3 T c^{3} d^{2} \\mu^{4} - 3 T c^{3} d^{2} \\mu^{2} - T c^{3} d^{2} - T c^{3} d \\mu^{4} - 5 T c^{3} d \\mu^{2} - 4 T c^{3} d - T c^{2} d^{2} \\mu^{4} - T c^{2} d^{2} \\mu^{2} - 2 T c^{2} d \\mu^{2} + 5 T c^{2} d + T c d^{2} \\mu^{2} - T c d + T d^{2} + c^{4} d^{2} \\mu^{8} + 4 c^{4} d^{2} \\mu^{6} + 6 c^{4} d^{2} \\mu^{4} + 4 c^{4} d^{2} \\mu^{2} + c^{4} d^{2} + c^{4} d \\mu^{6} + 2 c^{4} d \\mu^{4} + c^{4} d \\mu^{2} + 2 c^{4} \\mu^{2} + 2 c^{4} + 2 c^{3} d^{2} \\mu^{6} + 3 c^{3} d^{2} \\mu^{4} - c^{3} d^{2} + 3 c^{3} d \\mu^{4} + 5 c^{3} d - 2 c^{3} + 3 c^{2} d \\mu^{2} - 6 c^{2} d - 2 c d^{2} \\mu^{2} + c d^{2} + c d - d^{2}\\right)$"
          },
          "metadata": {},
          "execution_count": 53
        }
      ]
    },
    {
      "cell_type": "code",
      "source": [
        "print(sym.latex(sym.factor(den).replace(sym.sqrt(c**2*mu**2+2*c**2*mu+c**2+2*c*mu-2*c+1),T)))"
      ],
      "metadata": {
        "colab": {
          "base_uri": "https://localhost:8080/"
        },
        "id": "qofkHIYefeLK",
        "outputId": "730bda7d-c697-4d35-c742-7d9eac288ace"
      },
      "execution_count": null,
      "outputs": [
        {
          "output_type": "stream",
          "name": "stdout",
          "text": [
            "\\left(- T d + c d \\mu^{2} + c d + 2 c + d\\right)^{3} \\left(c^{2} \\mu^{4} + 2 c^{2} \\mu^{2} + c^{2} + 2 c \\mu^{2} - 2 c + 1\\right)^{\\frac{7}{2}}\n"
          ]
        }
      ]
    },
    {
      "cell_type": "code",
      "source": [
        "sym.factor(den).replace(sym.sqrt(c**2*mu**2+2*c**2*mu+c**2+2*c*mu-2*c+1),T)"
      ],
      "metadata": {
        "colab": {
          "base_uri": "https://localhost:8080/",
          "height": 44
        },
        "id": "mL2SsKLo3q71",
        "outputId": "440dd05a-c8c4-4580-fcc9-2d678199f740"
      },
      "execution_count": null,
      "outputs": [
        {
          "output_type": "execute_result",
          "data": {
            "text/plain": [
              "(-T*d + c*d*mu**2 + c*d + 2*c + d)**3*(c**2*mu**4 + 2*c**2*mu**2 + c**2 + 2*c*mu**2 - 2*c + 1)**(7/2)"
            ],
            "text/latex": "$\\displaystyle \\left(- T d + c d \\mu^{2} + c d + 2 c + d\\right)^{3} \\left(c^{2} \\mu^{4} + 2 c^{2} \\mu^{2} + c^{2} + 2 c \\mu^{2} - 2 c + 1\\right)^{\\frac{7}{2}}$"
          },
          "metadata": {},
          "execution_count": 57
        }
      ]
    },
    {
      "cell_type": "code",
      "source": [
        "print(sym.latex(sym.sqrt(c**2*mu**2+2*c**2*mu+c**2+2*c*mu-2*c+1)))"
      ],
      "metadata": {
        "colab": {
          "base_uri": "https://localhost:8080/"
        },
        "id": "ohf0760E349w",
        "outputId": "36c0eead-0a8f-424f-9080-4e847db9f1a8"
      },
      "execution_count": null,
      "outputs": [
        {
          "output_type": "stream",
          "name": "stdout",
          "text": [
            "\\sqrt{c^{2} \\mu^{4} + 2 c^{2} \\mu^{2} + c^{2} + 2 c \\mu^{2} - 2 c + 1}\n"
          ]
        }
      ]
    },
    {
      "cell_type": "code",
      "source": [
        "expr3 = sym.factor(num).replace(sym.sqrt(c**2*mu**2+2*c**2*mu+c**2+2*c*mu-2*c+1),T)\n",
        "expr4 = sym.factor_list(expr3)[1][1][0]\n",
        "expr4"
      ],
      "metadata": {
        "colab": {
          "base_uri": "https://localhost:8080/",
          "height": 80
        },
        "id": "kJeJtRjA5_2R",
        "outputId": "6230f412-e440-4f92-ff58-18de20258d49"
      },
      "execution_count": null,
      "outputs": [
        {
          "output_type": "execute_result",
          "data": {
            "text/plain": [
              "-T*c**3*d**2*mu**6 - 3*T*c**3*d**2*mu**4 - 3*T*c**3*d**2*mu**2 - T*c**3*d**2 - T*c**3*d*mu**4 - 5*T*c**3*d*mu**2 - 4*T*c**3*d - T*c**2*d**2*mu**4 - T*c**2*d**2*mu**2 - 2*T*c**2*d*mu**2 + 5*T*c**2*d + T*c*d**2*mu**2 - T*c*d + T*d**2 + c**4*d**2*mu**8 + 4*c**4*d**2*mu**6 + 6*c**4*d**2*mu**4 + 4*c**4*d**2*mu**2 + c**4*d**2 + c**4*d*mu**6 + 2*c**4*d*mu**4 + c**4*d*mu**2 + 2*c**4*mu**2 + 2*c**4 + 2*c**3*d**2*mu**6 + 3*c**3*d**2*mu**4 - c**3*d**2 + 3*c**3*d*mu**4 + 5*c**3*d - 2*c**3 + 3*c**2*d*mu**2 - 6*c**2*d - 2*c*d**2*mu**2 + c*d**2 + c*d - d**2"
            ],
            "text/latex": "$\\displaystyle - T c^{3} d^{2} \\mu^{6} - 3 T c^{3} d^{2} \\mu^{4} - 3 T c^{3} d^{2} \\mu^{2} - T c^{3} d^{2} - T c^{3} d \\mu^{4} - 5 T c^{3} d \\mu^{2} - 4 T c^{3} d - T c^{2} d^{2} \\mu^{4} - T c^{2} d^{2} \\mu^{2} - 2 T c^{2} d \\mu^{2} + 5 T c^{2} d + T c d^{2} \\mu^{2} - T c d + T d^{2} + c^{4} d^{2} \\mu^{8} + 4 c^{4} d^{2} \\mu^{6} + 6 c^{4} d^{2} \\mu^{4} + 4 c^{4} d^{2} \\mu^{2} + c^{4} d^{2} + c^{4} d \\mu^{6} + 2 c^{4} d \\mu^{4} + c^{4} d \\mu^{2} + 2 c^{4} \\mu^{2} + 2 c^{4} + 2 c^{3} d^{2} \\mu^{6} + 3 c^{3} d^{2} \\mu^{4} - c^{3} d^{2} + 3 c^{3} d \\mu^{4} + 5 c^{3} d - 2 c^{3} + 3 c^{2} d \\mu^{2} - 6 c^{2} d - 2 c d^{2} \\mu^{2} + c d^{2} + c d - d^{2}$"
          },
          "metadata": {},
          "execution_count": 68
        }
      ]
    },
    {
      "cell_type": "code",
      "source": [
        "q,r = sym.div(expr4 - 4*M*mu*c**2*(2*mu*c-T), mu*c+c-1)"
      ],
      "metadata": {
        "id": "OK3sQScw6kU8"
      },
      "execution_count": null,
      "outputs": []
    },
    {
      "cell_type": "code",
      "source": [
        "q"
      ],
      "metadata": {
        "colab": {
          "base_uri": "https://localhost:8080/",
          "height": 59
        },
        "id": "sy0JT7ww6u2T",
        "outputId": "772edb01-69cc-4af0-cfc2-4d9973252d52"
      },
      "execution_count": null,
      "outputs": [
        {
          "output_type": "execute_result",
          "data": {
            "text/plain": [
              "-T*c**2*d**2*mu**4 - 2*T*c**2*d**2*mu**2 - T*c**2*d**2 - T*c**2*d*mu**2 - 4*T*c**2*d - 2*T*c*d**2*mu**2 - T*c*d**2 + T*c*d - T*d**2 + c**3*d**2*mu**6 + 3*c**3*d**2*mu**4 + 3*c**3*d**2*mu**2 + c**3*d**2 + c**3*d*mu**4 + c**3*d*mu**2 + 2*c**3 + 3*c**2*d**2*mu**4 + 3*c**2*d**2*mu**2 - 4*c**2*d*mu**2 + 5*c**2*d + 3*c*d**2*mu**2 - c*d + d**2"
            ],
            "text/latex": "$\\displaystyle - T c^{2} d^{2} \\mu^{4} - 2 T c^{2} d^{2} \\mu^{2} - T c^{2} d^{2} - T c^{2} d \\mu^{2} - 4 T c^{2} d - 2 T c d^{2} \\mu^{2} - T c d^{2} + T c d - T d^{2} + c^{3} d^{2} \\mu^{6} + 3 c^{3} d^{2} \\mu^{4} + 3 c^{3} d^{2} \\mu^{2} + c^{3} d^{2} + c^{3} d \\mu^{4} + c^{3} d \\mu^{2} + 2 c^{3} + 3 c^{2} d^{2} \\mu^{4} + 3 c^{2} d^{2} \\mu^{2} - 4 c^{2} d \\mu^{2} + 5 c^{2} d + 3 c d^{2} \\mu^{2} - c d + d^{2}$"
          },
          "metadata": {},
          "execution_count": 70
        }
      ]
    },
    {
      "cell_type": "code",
      "source": [
        "print(sym.latex(q))"
      ],
      "metadata": {
        "colab": {
          "base_uri": "https://localhost:8080/"
        },
        "id": "D_MT5kv46x6W",
        "outputId": "4f299fc2-34fa-496c-9251-0086c64eaec5"
      },
      "execution_count": null,
      "outputs": [
        {
          "output_type": "stream",
          "name": "stdout",
          "text": [
            "- T c^{2} d^{2} \\mu^{4} - 2 T c^{2} d^{2} \\mu^{2} - T c^{2} d^{2} - T c^{2} d \\mu^{2} - 4 T c^{2} d - 2 T c d^{2} \\mu^{2} - T c d^{2} + T c d - T d^{2} + c^{3} d^{2} \\mu^{6} + 3 c^{3} d^{2} \\mu^{4} + 3 c^{3} d^{2} \\mu^{2} + c^{3} d^{2} + c^{3} d \\mu^{4} + c^{3} d \\mu^{2} + 2 c^{3} + 3 c^{2} d^{2} \\mu^{4} + 3 c^{2} d^{2} \\mu^{2} - 4 c^{2} d \\mu^{2} + 5 c^{2} d + 3 c d^{2} \\mu^{2} - c d + d^{2}\n"
          ]
        }
      ]
    },
    {
      "cell_type": "code",
      "source": [
        "r"
      ],
      "metadata": {
        "colab": {
          "base_uri": "https://localhost:8080/",
          "height": 37
        },
        "id": "Y8dq-qMc6v98",
        "outputId": "ae9ac5c5-c038-430b-92e4-33ea7559d482"
      },
      "execution_count": null,
      "outputs": [
        {
          "output_type": "execute_result",
          "data": {
            "text/plain": [
              "0"
            ],
            "text/latex": "$\\displaystyle 0$"
          },
          "metadata": {},
          "execution_count": 71
        }
      ]
    },
    {
      "cell_type": "markdown",
      "source": [
        "# Computation for Proof of Theorem 4"
      ],
      "metadata": {
        "id": "VWAsk-Be74fH"
      }
    },
    {
      "cell_type": "code",
      "source": [
        "theta = sym.Symbol('sigma')\n",
        "expr = (sym_sim_var(c,mu,theta)/(sym_sim_tau(c,mu,theta)**2)).diff(c)\n",
        "expr"
      ],
      "metadata": {
        "colab": {
          "base_uri": "https://localhost:8080/",
          "height": 251
        },
        "id": "i00ngibo737H",
        "outputId": "b94f235a-76b8-4011-cc2d-1006fd8e129d"
      },
      "execution_count": 87,
      "outputs": [
        {
          "output_type": "execute_result",
          "data": {
            "text/plain": [
              "-c*sigma**4*(-1 + (c*mu**2 + c + 1)/sqrt(4*c**2*mu**2 + (c*mu**2 - c + 1)**2))*(sigma**2 + 1)*(mu**2 - (4*c*mu**2 + (2*mu**2 - 2)*(c*mu**2 - c + 1)/2)/sqrt(4*c**2*mu**2 + (c*mu**2 - c + 1)**2) + 1)/(2*(sigma**2*(c*mu**2 + c - sqrt(4*c**2*mu**2 + (c*mu**2 - c + 1)**2) + 1)/2 + 1)**3) + c*sigma**2*(sigma**2 + 1)*((mu**2 + 1)/sqrt(4*c**2*mu**2 + (c*mu**2 - c + 1)**2) + (-4*c*mu**2 - (2*mu**2 - 2)*(c*mu**2 - c + 1)/2)*(c*mu**2 + c + 1)/(4*c**2*mu**2 + (c*mu**2 - c + 1)**2)**(3/2))/(2*(sigma**2*(c*mu**2 + c - sqrt(4*c**2*mu**2 + (c*mu**2 - c + 1)**2) + 1)/2 + 1)**2) + sigma**2*(-1 + (c*mu**2 + c + 1)/sqrt(4*c**2*mu**2 + (c*mu**2 - c + 1)**2))*(sigma**2 + 1)/(2*(sigma**2*(c*mu**2 + c - sqrt(4*c**2*mu**2 + (c*mu**2 - c + 1)**2) + 1)/2 + 1)**2)"
            ],
            "text/latex": "$\\displaystyle - \\frac{c \\sigma^{4} \\left(-1 + \\frac{c \\mu^{2} + c + 1}{\\sqrt{4 c^{2} \\mu^{2} + \\left(c \\mu^{2} - c + 1\\right)^{2}}}\\right) \\left(\\sigma^{2} + 1\\right) \\left(\\mu^{2} - \\frac{4 c \\mu^{2} + \\frac{\\left(2 \\mu^{2} - 2\\right) \\left(c \\mu^{2} - c + 1\\right)}{2}}{\\sqrt{4 c^{2} \\mu^{2} + \\left(c \\mu^{2} - c + 1\\right)^{2}}} + 1\\right)}{2 \\left(\\frac{\\sigma^{2} \\left(c \\mu^{2} + c - \\sqrt{4 c^{2} \\mu^{2} + \\left(c \\mu^{2} - c + 1\\right)^{2}} + 1\\right)}{2} + 1\\right)^{3}} + \\frac{c \\sigma^{2} \\left(\\sigma^{2} + 1\\right) \\left(\\frac{\\mu^{2} + 1}{\\sqrt{4 c^{2} \\mu^{2} + \\left(c \\mu^{2} - c + 1\\right)^{2}}} + \\frac{\\left(- 4 c \\mu^{2} - \\frac{\\left(2 \\mu^{2} - 2\\right) \\left(c \\mu^{2} - c + 1\\right)}{2}\\right) \\left(c \\mu^{2} + c + 1\\right)}{\\left(4 c^{2} \\mu^{2} + \\left(c \\mu^{2} - c + 1\\right)^{2}\\right)^{\\frac{3}{2}}}\\right)}{2 \\left(\\frac{\\sigma^{2} \\left(c \\mu^{2} + c - \\sqrt{4 c^{2} \\mu^{2} + \\left(c \\mu^{2} - c + 1\\right)^{2}} + 1\\right)}{2} + 1\\right)^{2}} + \\frac{\\sigma^{2} \\left(-1 + \\frac{c \\mu^{2} + c + 1}{\\sqrt{4 c^{2} \\mu^{2} + \\left(c \\mu^{2} - c + 1\\right)^{2}}}\\right) \\left(\\sigma^{2} + 1\\right)}{2 \\left(\\frac{\\sigma^{2} \\left(c \\mu^{2} + c - \\sqrt{4 c^{2} \\mu^{2} + \\left(c \\mu^{2} - c + 1\\right)^{2}} + 1\\right)}{2} + 1\\right)^{2}}$"
          },
          "metadata": {},
          "execution_count": 87
        }
      ]
    },
    {
      "cell_type": "code",
      "source": [
        "expr = expr.simplify()"
      ],
      "metadata": {
        "id": "bXyB862II0B3"
      },
      "execution_count": 90,
      "outputs": []
    },
    {
      "cell_type": "code",
      "source": [
        "print(sym.latex(expr))"
      ],
      "metadata": {
        "colab": {
          "base_uri": "https://localhost:8080/"
        },
        "id": "jOXkEV-D-r3J",
        "outputId": "1f544310-b651-4ad0-f8c6-c2fe31f2deee"
      },
      "execution_count": 88,
      "outputs": [
        {
          "output_type": "stream",
          "name": "stdout",
          "text": [
            "- \\frac{c \\sigma^{4} \\left(-1 + \\frac{c \\mu^{2} + c + 1}{\\sqrt{4 c^{2} \\mu^{2} + \\left(c \\mu^{2} - c + 1\\right)^{2}}}\\right) \\left(\\sigma^{2} + 1\\right) \\left(\\mu^{2} - \\frac{4 c \\mu^{2} + \\frac{\\left(2 \\mu^{2} - 2\\right) \\left(c \\mu^{2} - c + 1\\right)}{2}}{\\sqrt{4 c^{2} \\mu^{2} + \\left(c \\mu^{2} - c + 1\\right)^{2}}} + 1\\right)}{2 \\left(\\frac{\\sigma^{2} \\left(c \\mu^{2} + c - \\sqrt{4 c^{2} \\mu^{2} + \\left(c \\mu^{2} - c + 1\\right)^{2}} + 1\\right)}{2} + 1\\right)^{3}} + \\frac{c \\sigma^{2} \\left(\\sigma^{2} + 1\\right) \\left(\\frac{\\mu^{2} + 1}{\\sqrt{4 c^{2} \\mu^{2} + \\left(c \\mu^{2} - c + 1\\right)^{2}}} + \\frac{\\left(- 4 c \\mu^{2} - \\frac{\\left(2 \\mu^{2} - 2\\right) \\left(c \\mu^{2} - c + 1\\right)}{2}\\right) \\left(c \\mu^{2} + c + 1\\right)}{\\left(4 c^{2} \\mu^{2} + \\left(c \\mu^{2} - c + 1\\right)^{2}\\right)^{\\frac{3}{2}}}\\right)}{2 \\left(\\frac{\\sigma^{2} \\left(c \\mu^{2} + c - \\sqrt{4 c^{2} \\mu^{2} + \\left(c \\mu^{2} - c + 1\\right)^{2}} + 1\\right)}{2} + 1\\right)^{2}} + \\frac{\\sigma^{2} \\left(-1 + \\frac{c \\mu^{2} + c + 1}{\\sqrt{4 c^{2} \\mu^{2} + \\left(c \\mu^{2} - c + 1\\right)^{2}}}\\right) \\left(\\sigma^{2} + 1\\right)}{2 \\left(\\frac{\\sigma^{2} \\left(c \\mu^{2} + c - \\sqrt{4 c^{2} \\mu^{2} + \\left(c \\mu^{2} - c + 1\\right)^{2}} + 1\\right)}{2} + 1\\right)^{2}}\n"
          ]
        }
      ]
    },
    {
      "cell_type": "code",
      "source": [
        "sym.limit(expr,c,1/(mu+1))"
      ],
      "metadata": {
        "colab": {
          "base_uri": "https://localhost:8080/",
          "height": 89
        },
        "id": "0CfeZziE-mZv",
        "outputId": "d69c48b8-1c44-4e49-eaee-1129e819f914"
      },
      "execution_count": 91,
      "outputs": [
        {
          "output_type": "execute_result",
          "data": {
            "text/plain": [
              "2*sigma**2*(mu**2 + 1)**(3/2)*(-256*mu**7 + 256*mu**6*sqrt(mu**2 + 1))*(sigma**2 + 1)/((4*mu**4/(mu**2 + 1)**2 + 4*mu**2/(mu**2 + 1)**2)**(7/2)*(-2*mu*sigma**2 + 2*sigma**2*sqrt(mu**2 + 1) + 2*sqrt(mu**2 + 1))**3*(mu**6*sqrt(mu**2 + 1) + 3*mu**4*sqrt(mu**2 + 1) + 3*mu**2*sqrt(mu**2 + 1) + sqrt(mu**2 + 1)))"
            ],
            "text/latex": "$\\displaystyle \\frac{2 \\sigma^{2} \\left(\\mu^{2} + 1\\right)^{\\frac{3}{2}} \\left(- 256 \\mu^{7} + 256 \\mu^{6} \\sqrt{\\mu^{2} + 1}\\right) \\left(\\sigma^{2} + 1\\right)}{\\left(\\frac{4 \\mu^{4}}{\\left(\\mu^{2} + 1\\right)^{2}} + \\frac{4 \\mu^{2}}{\\left(\\mu^{2} + 1\\right)^{2}}\\right)^{\\frac{7}{2}} \\left(- 2 \\mu \\sigma^{2} + 2 \\sigma^{2} \\sqrt{\\mu^{2} + 1} + 2 \\sqrt{\\mu^{2} + 1}\\right)^{3} \\left(\\mu^{6} \\sqrt{\\mu^{2} + 1} + 3 \\mu^{4} \\sqrt{\\mu^{2} + 1} + 3 \\mu^{2} \\sqrt{\\mu^{2} + 1} + \\sqrt{\\mu^{2} + 1}\\right)}$"
          },
          "metadata": {},
          "execution_count": 91
        }
      ]
    },
    {
      "cell_type": "code",
      "source": [
        "print(sym.latex(sym.limit(expr,c,1/(mu+1))))"
      ],
      "metadata": {
        "colab": {
          "base_uri": "https://localhost:8080/"
        },
        "id": "EevN8mO6Ck6m",
        "outputId": "23905449-7617-47eb-aa47-eca7b0c0fbbb"
      },
      "execution_count": 92,
      "outputs": [
        {
          "output_type": "stream",
          "name": "stdout",
          "text": [
            "\\frac{2 \\sigma^{2} \\left(\\mu^{2} + 1\\right)^{\\frac{3}{2}} \\left(- 256 \\mu^{7} + 256 \\mu^{6} \\sqrt{\\mu^{2} + 1}\\right) \\left(\\sigma^{2} + 1\\right)}{\\left(\\frac{4 \\mu^{4}}{\\left(\\mu^{2} + 1\\right)^{2}} + \\frac{4 \\mu^{2}}{\\left(\\mu^{2} + 1\\right)^{2}}\\right)^{\\frac{7}{2}} \\left(- 2 \\mu \\sigma^{2} + 2 \\sigma^{2} \\sqrt{\\mu^{2} + 1} + 2 \\sqrt{\\mu^{2} + 1}\\right)^{3} \\left(\\mu^{6} \\sqrt{\\mu^{2} + 1} + 3 \\mu^{4} \\sqrt{\\mu^{2} + 1} + 3 \\mu^{2} \\sqrt{\\mu^{2} + 1} + \\sqrt{\\mu^{2} + 1}\\right)}\n"
          ]
        }
      ]
    },
    {
      "cell_type": "code",
      "source": [
        "sym.limit(expr,c,1).collect(theta)"
      ],
      "metadata": {
        "colab": {
          "base_uri": "https://localhost:8080/",
          "height": 106
        },
        "id": "op2HRqilBU7G",
        "outputId": "7282e8c9-3761-498c-d3ab-22df6195136e"
      },
      "execution_count": 93,
      "outputs": [
        {
          "output_type": "execute_result",
          "data": {
            "text/plain": [
              "2*sigma**2*(sigma**2 + 1)*(2*mu**14 - 2*mu**13*sqrt(mu**2 + 4) + 28*mu**12 - 24*mu**11*sqrt(mu**2 + 4) + 140*mu**10 - 96*mu**9*sqrt(mu**2 + 4) + 288*mu**8 - 128*mu**7*sqrt(mu**2 + 4) + 192*mu**6 + sigma**2*(-2*mu**16 + 2*mu**15*sqrt(mu**2 + 4) - 28*mu**14 + 24*mu**13*sqrt(mu**2 + 4) - 146*mu**12 + 102*mu**11*sqrt(mu**2 + 4) - 340*mu**10 + 176*mu**9*sqrt(mu**2 + 4) - 320*mu**8 + 96*mu**7*sqrt(mu**2 + 4) - 64*mu**6))/((mu**4 + 4*mu**2)**(7/2)*(sigma**2*(mu**2 - mu*sqrt(mu**2 + 4) + 2) + 2)**3)"
            ],
            "text/latex": "$\\displaystyle \\frac{2 \\sigma^{2} \\left(\\sigma^{2} + 1\\right) \\left(2 \\mu^{14} - 2 \\mu^{13} \\sqrt{\\mu^{2} + 4} + 28 \\mu^{12} - 24 \\mu^{11} \\sqrt{\\mu^{2} + 4} + 140 \\mu^{10} - 96 \\mu^{9} \\sqrt{\\mu^{2} + 4} + 288 \\mu^{8} - 128 \\mu^{7} \\sqrt{\\mu^{2} + 4} + 192 \\mu^{6} + \\sigma^{2} \\left(- 2 \\mu^{16} + 2 \\mu^{15} \\sqrt{\\mu^{2} + 4} - 28 \\mu^{14} + 24 \\mu^{13} \\sqrt{\\mu^{2} + 4} - 146 \\mu^{12} + 102 \\mu^{11} \\sqrt{\\mu^{2} + 4} - 340 \\mu^{10} + 176 \\mu^{9} \\sqrt{\\mu^{2} + 4} - 320 \\mu^{8} + 96 \\mu^{7} \\sqrt{\\mu^{2} + 4} - 64 \\mu^{6}\\right)\\right)}{\\left(\\mu^{4} + 4 \\mu^{2}\\right)^{\\frac{7}{2}} \\left(\\sigma^{2} \\left(\\mu^{2} - \\mu \\sqrt{\\mu^{2} + 4} + 2\\right) + 2\\right)^{3}}$"
          },
          "metadata": {},
          "execution_count": 93
        }
      ]
    },
    {
      "cell_type": "code",
      "source": [
        "print(sym.latex(sym.limit(expr,c,1).collect(theta)))"
      ],
      "metadata": {
        "colab": {
          "base_uri": "https://localhost:8080/"
        },
        "id": "BjvBN7xTDlBd",
        "outputId": "039075ec-a1d4-4d3f-a23d-1cd055be46fd"
      },
      "execution_count": 96,
      "outputs": [
        {
          "output_type": "stream",
          "name": "stdout",
          "text": [
            "\\frac{2 \\sigma^{2} \\left(\\sigma^{2} + 1\\right) \\left(2 \\mu^{14} - 2 \\mu^{13} \\sqrt{\\mu^{2} + 4} + 28 \\mu^{12} - 24 \\mu^{11} \\sqrt{\\mu^{2} + 4} + 140 \\mu^{10} - 96 \\mu^{9} \\sqrt{\\mu^{2} + 4} + 288 \\mu^{8} - 128 \\mu^{7} \\sqrt{\\mu^{2} + 4} + 192 \\mu^{6} + \\sigma^{2} \\left(- 2 \\mu^{16} + 2 \\mu^{15} \\sqrt{\\mu^{2} + 4} - 28 \\mu^{14} + 24 \\mu^{13} \\sqrt{\\mu^{2} + 4} - 146 \\mu^{12} + 102 \\mu^{11} \\sqrt{\\mu^{2} + 4} - 340 \\mu^{10} + 176 \\mu^{9} \\sqrt{\\mu^{2} + 4} - 320 \\mu^{8} + 96 \\mu^{7} \\sqrt{\\mu^{2} + 4} - 64 \\mu^{6}\\right)\\right)}{\\left(\\mu^{4} + 4 \\mu^{2}\\right)^{\\frac{7}{2}} \\left(\\sigma^{2} \\left(\\mu^{2} - \\mu \\sqrt{\\mu^{2} + 4} + 2\\right) + 2\\right)^{3}}\n"
          ]
        }
      ]
    }
  ],
  "metadata": {
    "colab": {
      "provenance": []
    },
    "kernelspec": {
      "display_name": "Python 3",
      "name": "python3"
    },
    "language_info": {
      "name": "python"
    }
  },
  "nbformat": 4,
  "nbformat_minor": 0
}
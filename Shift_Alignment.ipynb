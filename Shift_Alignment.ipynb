{
  "cells": [
    {
      "cell_type": "markdown",
      "metadata": {
        "id": "view-in-github",
        "colab_type": "text"
      },
      "source": [
        "<a href=\"https://colab.research.google.com/github/rsonthal/Under-Parameterized-Double-Descent/blob/main/Shift_Alignment.ipynb\" target=\"_parent\"><img src=\"https://colab.research.google.com/assets/colab-badge.svg\" alt=\"Open In Colab\"/></a>"
      ]
    },
    {
      "cell_type": "code",
      "execution_count": null,
      "metadata": {
        "id": "Rz2Y8bud4ZbC"
      },
      "outputs": [],
      "source": [
        "import torch\n",
        "import numpy as np\n",
        "from tqdm import tqdm\n",
        "import matplotlib.pyplot as plt\n",
        "\n",
        "torch.set_default_device(\"cuda\")"
      ]
    },
    {
      "cell_type": "markdown",
      "metadata": {
        "id": "hhhFCePgLgo2"
      },
      "source": [
        "# Input noise"
      ]
    },
    {
      "cell_type": "code",
      "execution_count": null,
      "metadata": {
        "id": "6Nx_b_Wn4i8G"
      },
      "outputs": [],
      "source": [
        "def shift_spectrum(X,mu):\n",
        "  p, n = X.shape\n",
        "  U, S, Vh = torch.linalg.svd(X, full_matrices=False)\n",
        "  S_new = (S.square() + mu ** 2).sqrt()\n",
        "  return U @ torch.diag(S**2/S) @ Vh\n",
        "\n",
        "def make_noise(n, p, mu):\n",
        "  return skew_eigenvectors(torch.randn(p,n)/np.sqrt(p),V)\n",
        "\n",
        "def make_noise_ridge(n,p,mu):\n",
        "  R = mu * torch.eye(p)\n",
        "  A = torch.randn(p,n)/np.sqrt(p)\n",
        "  A_bigger = torch.randn(n+p, n+p)\n",
        "  Q = torch.linalg.svd(A_bigger)[0]\n",
        "\n",
        "  A_hat = torch.cat((A, R), dim = 1)\n",
        "\n",
        "  U, S, Vh = torch.linalg.svd(A_hat)\n",
        "  # S = (S.square() - mu **2).abs().sqrt()\n",
        "  # Vh_new = Vh @ Q\n",
        "\n",
        "  return U @ torch.diag(S) @ Vh[:p,:]\n",
        "\n",
        "def make_noise_ridge_rot(n,p,mu):\n",
        "  R = mu * torch.eye(p)\n",
        "  A = torch.randn(p,n)/np.sqrt(p)\n",
        "  A_bigger = torch.randn(n+p, 1)\n",
        "  Q = torch.linalg.svd(A_bigger)[0]\n",
        "\n",
        "  A_hat = torch.cat((A, R), dim = 1)\n",
        "\n",
        "  U, S, Vh = torch.linalg.svd(A_hat)\n",
        "  # S = (S.square() - mu **2).abs().sqrt()\n",
        "  # Vh_new = Vh @ Q\n",
        "\n",
        "  return U @ torch.diag(S) @  Q[:p,:]\n",
        "\n",
        "def skew_eigenvectors(X,V):\n",
        "  U, S, Vh = torch.linalg.svd(X, full_matrices=False)\n",
        "\n",
        "  return V[:,:S.shape[0]] @ torch.diag(S) @ Vh\n"
      ]
    },
    {
      "cell_type": "code",
      "execution_count": null,
      "metadata": {
        "id": "7E4XihrcgPD0"
      },
      "outputs": [],
      "source": [
        "n = 500\n",
        "p = 300\n",
        "mu = 1\n",
        "A1 = shift_spectrum(torch.randn(p,n)/np.sqrt(p),mu)\n",
        "A2 = make_noise_ridge(n,p,mu)"
      ]
    },
    {
      "cell_type": "code",
      "execution_count": null,
      "metadata": {
        "colab": {
          "base_uri": "https://localhost:8080/"
        },
        "id": "uQFlqNMUgbiX",
        "outputId": "9cf87cee-e04a-4d3d-8c20-b7e926263d2c"
      },
      "outputs": [
        {
          "output_type": "execute_result",
          "data": {
            "text/plain": [
              "tensor(0.4042, device='cuda:0')"
            ]
          },
          "metadata": {},
          "execution_count": 6
        }
      ],
      "source": [
        "(torch.linalg.svdvals(A1)-torch.linalg.svdvals(A2)).abs().mean()"
      ]
    },
    {
      "cell_type": "code",
      "execution_count": null,
      "metadata": {
        "id": "vu6eG0Cx6Csh"
      },
      "outputs": [],
      "source": [
        "def solve_and_test(Xtrn, Xtst, n, p, mu, Q, beta):\n",
        "  # A_hat = make_noise_ridge_rot(n,p,mu) #shift_spectrum(torch.randn(p,n)/np.sqrt(p),mu) #\n",
        "  A_hat_2 = make_noise_ridge(n,p,mu)\n",
        "  Atst = torch.randn_like(Xtst)/np.sqrt(p) #make_noise(Xtst.shape[1],p,mu, V=V)\n",
        "\n",
        "  X_hat = torch.cat((Xtrn, torch.zeros(p,p)),dim = 1)\n",
        "  # X_hat = Xtrn\n",
        "\n",
        "  # W = X_hat @ torch.linalg.pinv(X_hat + A_hat)\n",
        "  # W = X_hat @ torch.linalg.pinv(X_hat + A_hat)\n",
        "  W_2 = beta @ X_hat @ Q @ torch.linalg.pinv(X_hat @ Q  + (A_hat_2))\n",
        "  # return (Xtst - W @ (Xtst + Atst)).square().sum(), (Xtst - W_2 @ (Xtst + Atst)).square().sum()\n",
        "  return W_2.square().sum().sqrt(), (beta @ Xtst - W_2 @ (Xtst + Atst)).square().sum()"
      ]
    },
    {
      "cell_type": "code",
      "execution_count": null,
      "metadata": {
        "id": "x73J_bro8vW6"
      },
      "outputs": [],
      "source": [
        "def compute_curve(u, mu, Ns, T, beta):\n",
        "  p = u.shape[0]\n",
        "  N = len(Ns)\n",
        "  losses = torch.zeros(N)\n",
        "  losses_2 = torch.zeros(N)\n",
        "  vtst = torch.randn(1,Ns[-1])\n",
        "  Xtst = u @ vtst\n",
        "  for i,n in tqdm(list(enumerate(Ns))):\n",
        "    vtrn = torch.randn(1,n)\n",
        "    Xtrn = u @ vtrn\n",
        "\n",
        "    for j in range(T):\n",
        "      Q = torch.linalg.svd(torch.randn(n+p, n+p)/np.sqrt(n+p))[0] @ torch.linalg.svd(torch.randn(n+p, n+p)/np.sqrt(n+p))[2]\n",
        "      # print(torch.norm(Q @ Q.T - torch.eye(n+p)))\n",
        "      loss, loss_2 = solve_and_test(Xtrn, Xtst, n, p, mu, Q, beta)\n",
        "      losses[i] += loss/T\n",
        "      losses_2[i] += loss_2/T\n",
        "  return losses, losses_2"
      ]
    },
    {
      "cell_type": "code",
      "execution_count": null,
      "metadata": {
        "colab": {
          "base_uri": "https://localhost:8080/"
        },
        "id": "XX8wVYK45VyX",
        "outputId": "37e985be-cd8f-475e-f804-8b331fd4b40f"
      },
      "outputs": [
        {
          "output_type": "execute_result",
          "data": {
            "text/plain": [
              "torch.Size([300, 300])"
            ]
          },
          "metadata": {},
          "execution_count": 9
        }
      ],
      "source": [
        "p = 300\n",
        "u = torch.randn(p,1)\n",
        "u = u/torch.norm(u)\n",
        "V = torch.linalg.svd(torch.randn(p,p))[0]\n",
        "beta = torch.randn(1,p)\n",
        "V.shape"
      ]
    },
    {
      "cell_type": "code",
      "execution_count": null,
      "metadata": {
        "id": "3Tpxlxlu92VF"
      },
      "outputs": [],
      "source": [
        "mu = 1\n",
        "Ns = [250,300,350,400,450,500,550,600,650,700]\n",
        "T = 500"
      ]
    },
    {
      "cell_type": "code",
      "execution_count": null,
      "metadata": {
        "colab": {
          "base_uri": "https://localhost:8080/"
        },
        "id": "BOf7zfUK-HrX",
        "outputId": "5656b24b-b5f0-4a4a-88e5-f6432c95ce78"
      },
      "outputs": [
        {
          "output_type": "stream",
          "name": "stderr",
          "text": [
            "100%|██████████| 10/10 [17:06<00:00, 102.62s/it]\n"
          ]
        }
      ],
      "source": [
        "loss, loss_2 = compute_curve(u, mu, Ns, T, beta)"
      ]
    },
    {
      "cell_type": "code",
      "execution_count": null,
      "metadata": {
        "colab": {
          "base_uri": "https://localhost:8080/",
          "height": 488
        },
        "id": "GLGtrjOI-MeM",
        "outputId": "22be07d1-7771-46ba-af1b-a64857428c56"
      },
      "outputs": [
        {
          "output_type": "display_data",
          "data": {
            "text/plain": [
              "<Figure size 640x480 with 1 Axes>"
            ],
            "image/png": "[encoded data removed]"
          },
          "metadata": {}
        }
      ],
      "source": [
        "plt.plot(300/torch.tensor(Ns).cpu(), loss.cpu(), linewidth = 3)\n",
        "# plt.plot(300/torch.tensor(Ns).cpu(), loss_2.cpu(), linewidth = 3)\n",
        "plt.yscale(\"log\")\n",
        "plt.xlabel(r\"$c$\", fontsize = 18)\n",
        "plt.ylabel(\"Generalization Risk\", fontsize = 18)\n",
        "plt.title(r\"$\\mu$ = 1\", fontsize = 18)\n",
        "plt.savefig(\"rotated-V.pdf\", bbox_inches='tight', facecolor='white', dpi = 100, format = 'pdf')"
      ]
    },
    {
      "cell_type": "code",
      "execution_count": null,
      "metadata": {
        "id": "IRjsBshC_QMi"
      },
      "outputs": [],
      "source": [
        "plt.plot(torch.tensor(Ns)/500, loss_2, linewidth = 3)\n",
        "plt.yscale(\"log\")\n",
        "plt.xlabel(r\"$\\frac{1}{c}$\", fontsize = 18)\n",
        "plt.ylabel(\"Generalization Risk\", fontsize = 18)\n",
        "plt.title(r\"$\\mu$ = 2\", fontsize = 18)\n",
        "plt.savefig(\"Eigenvalue-shift-mu-2.pdf\", bbox_inches='tight', facecolor='white', dpi = 100, format = 'pdf')"
      ]
    }
  ],
  "metadata": {
    "accelerator": "GPU",
    "colab": {
      "gpuType": "T4",
      "machine_shape": "hm",
      "provenance": [],
      "include_colab_link": true
    },
    "kernelspec": {
      "display_name": "Python 3",
      "name": "python3"
    },
    "language_info": {
      "name": "python"
    }
  },
  "nbformat": 4,
  "nbformat_minor": 0
}